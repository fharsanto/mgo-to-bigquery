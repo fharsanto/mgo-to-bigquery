{
 "cells": [
  {
   "cell_type": "code",
   "execution_count": 106,
   "id": "daily-physiology",
   "metadata": {},
   "outputs": [
    {
     "name": "stdout",
     "output_type": "stream",
     "text": [
      "1.2.3\n"
     ]
    }
   ],
   "source": [
    "import pandas as pd\n",
    "import json\n",
    "print(pd.__version__)\n",
    "pd.set_option('display.max_rows', 300)"
   ]
  },
  {
   "cell_type": "code",
   "execution_count": 75,
   "id": "auburn-monkey",
   "metadata": {},
   "outputs": [],
   "source": [
    "def add_to_dict(d, key, t, v):\n",
    "    if key in d:\n",
    "        d[key][t] = v\n",
    "#         ov = d[key]\n",
    "#         ov.append(a)\n",
    "#         d.update({key: ov})\n",
    "    else:\n",
    "        d.update({key: {t: v}})"
   ]
  },
  {
   "cell_type": "code",
   "execution_count": null,
   "id": "consistent-canyon",
   "metadata": {},
   "outputs": [],
   "source": [
    "import os\n",
    "import glob\n",
    "\n",
    "cols = {}\n",
    "c = []\n",
    "for filepath in glob.glob(os.path.join('schema', '*.schema.json')):\n",
    "    df = pd.read_json(filepath)\n",
    "    f = os.path.splitext(os.path.basename(filepath))[0]\n",
    "    c.append(f)\n",
    "    for i in range(len(df)):\n",
    "        add_to_dict(cols, df.at[i,'_id']['key'], f, df.at[i,'percentContaining'])        \n",
    "\n",
    "# print(cols)\n",
    "# c = ['cols'] + c\n",
    "rows = []\n",
    "idx = []\n",
    "for key, value in cols.items():\n",
    "    row = []\n",
    "    for columnName in c:\n",
    "        row.append(value[columnName] if columnName in value else 0)\n",
    "    rows.append(row)\n",
    "    idx.append(key)\n",
    "    \n",
    "df = pd.DataFrame(rows, columns=c, index=idx)\n",
    "# df.head(80)\n",
    "# df.mean(axis = 1)\n",
    "df.mean(axis='columns')"
   ]
  },
  {
   "cell_type": "code",
   "execution_count": null,
   "id": "informational-studio",
   "metadata": {},
   "outputs": [],
   "source": []
  },
  {
   "cell_type": "code",
   "execution_count": null,
   "id": "decent-vienna",
   "metadata": {},
   "outputs": [],
   "source": []
  }
 ],
 "metadata": {
  "kernelspec": {
   "display_name": "Python 3",
   "language": "python",
   "name": "python3"
  },
  "language_info": {
   "codemirror_mode": {
    "name": "ipython",
    "version": 3
   },
   "file_extension": ".py",
   "mimetype": "text/x-python",
   "name": "python",
   "nbconvert_exporter": "python",
   "pygments_lexer": "ipython3",
   "version": "3.9.1"
  }
 },
 "nbformat": 4,
 "nbformat_minor": 5
}
